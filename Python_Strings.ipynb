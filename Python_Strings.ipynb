{
  "nbformat": 4,
  "nbformat_minor": 0,
  "metadata": {
    "kernelspec": {
      "name": "python3",
      "display_name": "Python 3"
    },
    "language_info": {
      "codemirror_mode": {
        "name": "ipython",
        "version": 3
      },
      "file_extension": ".py",
      "mimetype": "text/x-python",
      "name": "python",
      "nbconvert_exporter": "python",
      "pygments_lexer": "ipython3",
      "version": "3.7.2"
    },
    "colab": {
      "name": "Python Strings.ipynb",
      "private_outputs": true,
      "provenance": [],
      "collapsed_sections": [],
      "include_colab_link": true
    },
    "accelerator": "GPU"
  },
  "cells": [
    {
      "cell_type": "markdown",
      "metadata": {
        "id": "view-in-github",
        "colab_type": "text"
      },
      "source": [
        "<a href=\"https://colab.research.google.com/github/futureCodersSE/working-with-data/blob/main/Python_Strings.ipynb\" target=\"_parent\"><img src=\"https://colab.research.google.com/assets/colab-badge.svg\" alt=\"Open In Colab\"/></a>"
      ]
    },
    {
      "cell_type": "markdown",
      "metadata": {
        "id": "R5NB4_WmbF1b"
      },
      "source": [
        "# Learn to build a simple search tool\n",
        "----"
      ]
    },
    {
      "cell_type": "markdown",
      "metadata": {
        "id": "lmIRhsZiLUqr"
      },
      "source": [
        "## Working with Python string variables\n",
        "\n",
        "Strings are sequences of keyboard characters.  To read strings from the keyboard, use the *input* command, with a message. The string that the user inputs must be placed in a variable e.g.:\n",
        "\n",
        "```\n",
        "   <<variable>> = input(\"<<message>>\")\n",
        "```\n",
        "Here is an example of some code to read a name then print the name in a message:\n",
        "\n",
        "```\n",
        "    name = input(\"Enter your name\")  \n",
        "    print(\"Your name is\", name)\n",
        "```\n",
        "\n",
        "### Using strings\n",
        "When processing, or printing, strings, we might want to use the whole string or parts of it.  It is possible to access individual characters in the string using the position of the characters, like this:\n",
        "``` \n",
        "   print(\"Your initial is\", name[0])\n",
        "```   \n",
        "We use name[0] to get the first character in the string (they are numbered from 0 to one less than the number of characters).  For example, the name Fred has 4 characters, numbered from 0 to 3.  \n",
        "\n",
        "name[0] is F, name[1] is r, name[2] is e and name[3] is d   \n",
        "   \n",
        "The code below will set a firstname variable to Fred, a surname variable to Bloggs, and then print the mess \"Fred Bloggs has the initials:\".  Add the code to print Fred's initials."
      ]
    },
    {
      "cell_type": "code",
      "metadata": {
        "scrolled": true,
        "id": "9ybbxWyLLUqv"
      },
      "source": [
        "firstname = \"Fred\"\n",
        "surname = \"Bloggs\"\n",
        "print(firstname, surname, \"has the initials:\")\n",
        "## add your code here ##"
      ],
      "execution_count": null,
      "outputs": []
    },
    {
      "cell_type": "markdown",
      "metadata": {
        "id": "ngVGS3qHLUq2"
      },
      "source": [
        "### Using a variable to hold the position of the character we want\n",
        "\n",
        "If we have a string variable, we might want to write a program to find any character in that string.  For instance, we might ask the user to say which character they want to see.\n",
        "```\n",
        "name = \"Christopher\"  \n",
        "position = int(input(\"Which letter do you want to see? \"))  \n",
        "print(name[position])  \n",
        "```\n",
        "###Try it out"
      ]
    },
    {
      "cell_type": "code",
      "metadata": {
        "id": "6ozOJIkdLUq4"
      },
      "source": [
        "name = \"Christopher\"  \n",
        "position = int(input(\"Which letter do you want to see? \"))  \n",
        "print(name[position])"
      ],
      "execution_count": null,
      "outputs": []
    },
    {
      "cell_type": "markdown",
      "metadata": {
        "id": "L2ZBrXEjLUq8"
      },
      "source": [
        "There is a bit of a mismatch between Python's numbering system and the human numbering system.  If, as a human, I want to see the fourth letter (which is **i**), I would like to type 4 and not 3.  In the example above, name[4] is s, name[3] is i.\n",
        "\n",
        "How could you make the code more user-friendly so that if the users types 4, then the answer is i?"
      ]
    },
    {
      "cell_type": "code",
      "metadata": {
        "id": "HnG0lzbPLUrC"
      },
      "source": [
        "name = \"Christopher\"  \n",
        "position = int(input(\"Which letter do you want to see? \"))\n",
        "## add your code here to change the value of position ##\n",
        "print(name[position])"
      ],
      "execution_count": null,
      "outputs": []
    },
    {
      "cell_type": "markdown",
      "metadata": {
        "id": "vnhgHM6sLUrG"
      },
      "source": [
        "# Have a go at these three challenges"
      ]
    },
    {
      "cell_type": "code",
      "metadata": {
        "id": "U4EPJ9__LUrH"
      },
      "source": [
        "### Challenge 1:\n",
        "### Write a program that will input a first name, a middle name and a surname and then print the user's initials and surname.  \n",
        "### e.g. firstname is \"John\", middlename is \"Wilbur\", surname is \"Smith\", print J W Smith\n",
        "\n",
        "## add your code here ##"
      ],
      "execution_count": null,
      "outputs": []
    },
    {
      "cell_type": "code",
      "metadata": {
        "id": "Eiac2sifLUrM"
      },
      "source": [
        "### Challenge 2:\n",
        "### Using three more variables, find the length of firstname, middlename and surname (use len(firstname), len(middlename), etc).  \n",
        "### Read the names.  Find the lengths of the names. Print the person’s initials and the length of each name.\n",
        "### e.g. firstname is \"John\", middlename is \"Wilbur\", surname is \"Smith\", print J W S 4 6 5\n",
        "\n",
        "## add your code here ##"
      ],
      "execution_count": null,
      "outputs": []
    },
    {
      "cell_type": "code",
      "metadata": {
        "id": "ODih6n6OLUrR"
      },
      "source": [
        "### Challenge 3:\n",
        "### Read firstname, middlename and surname.  Print the LAST letter of each name.\n",
        "### HINT:  you can find the length of the name and this will be ONE bigger than the last letter\n",
        "### OR: use can use a clever feature of Python that lets you get the last letter using e.g. firstname[-1]\n",
        "\n",
        "## add your code here ##"
      ],
      "execution_count": null,
      "outputs": []
    },
    {
      "cell_type": "markdown",
      "metadata": {
        "id": "FiLOX9QoLUrV"
      },
      "source": [
        "###Practice\n",
        "Let's practice printing different parts of a word.  \n",
        "\n",
        "You can specify more than one letter to print. For example if the name is \"Wilbur\" then print(name[0:3] will print the first 3 letters.  The 0 is the position of the first letter to include, the 3 is the position of the first letter that is **not** included.\n",
        "\n",
        "Try getting the second to the fifth letters  (should print ilbu)\n",
        "Try getting the last two letters (HINT: start at -2 and go to the length of the string)\n",
        "Try getting the first four letters.\n",
        "Try getting \"lb\""
      ]
    },
    {
      "cell_type": "code",
      "metadata": {
        "id": "HbGMVLNULUrW"
      },
      "source": [
        "name = \"Wilbur\"\n",
        "## add your code here ##"
      ],
      "execution_count": null,
      "outputs": []
    },
    {
      "cell_type": "markdown",
      "metadata": {
        "id": "OxiUgqfPLUra"
      },
      "source": [
        "### Here's another thing...\n",
        "You can make new words with the letters from an original word.\n",
        "\n",
        "Let's use the word=\"python\" and use its letters to make the word \"pot\"\n",
        "\n",
        "To do this we need to print word[0] word[4] word[2]\n",
        "\n",
        "We can do it this way:\n",
        "```\n",
        "   print(word[0], word[4], word[2])\n",
        "```   \n",
        "but we will get the result **p o t**\n",
        "\n",
        "To get around this, tell the print command that you don't want the items separated by a space.\n",
        "\n",
        "Do it like this:  \n",
        "```\n",
        "print(word[0], word[4], word[2], sep=\"\")\n",
        "```\n",
        "This means, separate the items with nothing"
      ]
    },
    {
      "cell_type": "code",
      "metadata": {
        "id": "I7D7xeIlLUrc"
      },
      "source": [
        "word=\"python\"\n",
        "print(word[0], word[4], word[2], sep=\"\")"
      ],
      "execution_count": null,
      "outputs": []
    },
    {
      "cell_type": "code",
      "metadata": {
        "id": "VhzaPk2gLUrg"
      },
      "source": [
        "### Now print the words \"hoppy\",\"happy\" and \"pony\".\n",
        "### Remember that you can read the last two letters together using word[-2:len(word)]\n",
        "word=\"python\"\n",
        "## add your code here ##"
      ],
      "execution_count": null,
      "outputs": []
    },
    {
      "cell_type": "markdown",
      "metadata": {
        "id": "dKNhYBH7LUrk"
      },
      "source": [
        "## Finally\n",
        "We can manipulate strings to display them all in upper case, all in lower case or capitalised so that only the first letter is capital.  WARNING:  Python uses American spelling so to capitalise a word, use .capitalize()\n",
        "\n",
        "#### python should be capitalised.\n",
        "```\n",
        "  word = python\n",
        "  capitalisedword = word.capitalize()\n",
        "  RESULT:  Python\n",
        "```\n",
        "#### show the word all in capitals\n",
        "```\n",
        "  word = python\n",
        "  incapitals = word.upper()\n",
        "  RESULT: PYTHON\n",
        "```\n",
        "#### show the word all in lower case\n",
        "```\n",
        "  word = PYThon\n",
        "  inlower = word.lower()\n",
        "  RESULT: python\n",
        "```  "
      ]
    },
    {
      "cell_type": "markdown",
      "metadata": {
        "id": "HM5EQKU1LUrl"
      },
      "source": [
        "## Mini-project - make a simple search tool:\n",
        "\n",
        "Let's start by printing out parts of piece of text.\n",
        "\n",
        "We will use the word **supercalifragilisticexpialidocious** to practice with. You are going to use this word to practice string manipulation.\n",
        "Write a program to print the following list of items(12 in all)\n",
        "\n",
        "1. print the word as it is\n",
        "2. print the word in capital letters (using .upper())\n",
        "3. print the length of the word (using len(string))\n",
        "\n",
        "4. print out the 3 words below from within your string using their index values (positions):\n",
        "\n",
        "      a. super  \n",
        "      b. list  \n",
        "      c. lid  \n",
        "\n",
        "NOTE: The code for the first word is: print(string[0:4].  Do the next 2 words on your own.  \n",
        "\n",
        "5. use the positions of the letters to make the words (you can use a character more than once):  \n",
        "\n",
        "     a. fragile  \n",
        "     b. delicious  \n",
        "     c. superstitious  \n",
        "\n",
        "6. make up three words of your own using the characters in this word? You can use a character more than once.  \n",
        "\n",
        "   a. make a 2 letter word  \n",
        "   b. make a 3 letter word  \n",
        "   c. make a 4 letter word  "
      ]
    },
    {
      "cell_type": "code",
      "metadata": {
        "id": "GezqNMPyLUrp"
      },
      "source": [
        "## write your code here\n",
        "word = \"supercalifragilisticexpialidocious\"\n"
      ],
      "execution_count": null,
      "outputs": []
    },
    {
      "cell_type": "markdown",
      "metadata": {
        "id": "3o5yVWodcWLM"
      },
      "source": [
        "### Longer strings (with multiple words!)\n",
        "\n",
        "Most text is written in sentences but can be treated in the same way.\n",
        "\n",
        "```\n",
        "sentence = \"The fat cat sat on the long, comfortable sofa and went to sleep.\"\n",
        "```\n",
        "\n",
        "Suppose we wanted to check if the word \"sofa\" is in there and print only the part of the sentence from that word (\"sofa and went to sleep\"). We can try to count along to find the position or we can get Python to do it for us.\n",
        "\n",
        "Run the code below to use *_.find()_* to get the position of the first letter of \"sofa\":"
      ]
    },
    {
      "cell_type": "code",
      "metadata": {
        "id": "kuLtdtZhQXd7"
      },
      "source": [
        "sentence = \"The fat cat sat on the long, comfortable sofa and went to sleep.\"\n",
        "position = sentence.find(\"sofa\")\n",
        "print(\"Sofa starts at position\", position)"
      ],
      "execution_count": null,
      "outputs": []
    },
    {
      "cell_type": "markdown",
      "metadata": {
        "id": "aMEYszLgQ-Bs"
      },
      "source": [
        "If \"sofa\" starts at position 41, then we can print the sentence from that position to the end:"
      ]
    },
    {
      "cell_type": "code",
      "metadata": {
        "id": "mWVTnbC0WeXC"
      },
      "source": [
        "print(sentence[position : len(sentence)])"
      ],
      "execution_count": null,
      "outputs": []
    },
    {
      "cell_type": "markdown",
      "metadata": {
        "id": "3Q6pciGdWigM"
      },
      "source": [
        "### How would you print the first part of the sentence (\"The fat cat sat on the long, comfortable \")\n",
        "_Remember: you need two numbers in the [] brackets,  \n",
        "[ (position of first letter to include) : (position of first letter NOT to include) ]_\n",
        "\n",
        "_ALSO remember that the position of the \"s\" in sofa is called position"
      ]
    },
    {
      "cell_type": "code",
      "metadata": {
        "id": "4POKzgDOWNmO"
      },
      "source": [
        "sentence = \"The fat cat sat on the long, comfortable sofa and went to sleep.\"\n",
        "position = sentence.find(\"sofa\")\n",
        "## add your code here ##"
      ],
      "execution_count": null,
      "outputs": []
    },
    {
      "cell_type": "markdown",
      "metadata": {
        "id": "u7w4vitnW5ze"
      },
      "source": [
        "# The search tool"
      ]
    },
    {
      "cell_type": "markdown",
      "metadata": {
        "id": "txPS3HmWUK9H"
      },
      "source": [
        "Make a search tool that will:\n",
        "\n",
        "*   find the position of the start of any word that the user enters\n",
        "*   prints the position of the start of the word\n",
        "*   prints the text from that word to the end\n",
        "\n",
        "Here is some text for you to use:\n",
        "\n",
        "textToSearch = \"Harry could not move a muscle.  He lay there beneath the Invisibility Cloak feeling the blood from his nose flow, hot and wet, over his face, listening to the voices and footsteps in the corridor beyond.  His immediate thought was that someone, surely, would check the compartments before the train departed again? But at once came the dispiriting realisation that even if somebody looked into the compartment, he would be neither seen nor heard.  His best hope was that somebody else would walk in and step on him.\"\n",
        "\n",
        "_Remember: textToSearch.find(....) will find the position of the first letter of the word(s) you are searching for._\n",
        "\n",
        "### Testing\n",
        "Here is how you will know that your code is working correctly:  \n",
        "**Test 1 - search for \"Harry\":**  \n",
        "Position of the start of the word(s) is 0  \n",
        "The whole text will be printed.  \n",
        "\n",
        "**Test 2 - search for \"His best hope\":**  \n",
        "Position of the start of the word(s) is 445  \n",
        "Prints \"His best hope was that somebody else would walk in and step on him.\"  \n",
        "\n",
        "**Test 3 - search for \"Hermione\":**  \n",
        "Position of the start of the word(s) is -1     \n",
        "Prints .  (-1 means that the word was not found)  \n",
        "  \n",
        "**Test 4 - search for \"spirit\":**  \n",
        "Position of the start of the word(s) is 336  \n",
        "Prints \"spiriting realisation that even if somebody looked into the compartment, he would be neither seen nor heard.  His best hope was that somebody else would walk in and step on him.\"  \n",
        "  \n",
        "**Test 5 - search for \"compartment\":**  \n",
        "Position of the start of the word(s) is  \n",
        "Prints \"compartments before the train departed again? But at once came the dispiriting realisation that even if somebody looked into the compartment, he would be neither seen nor heard.  His best hope was that somebody else would walk in and step on him.\"   \n",
        "**NOTE:** textToSearch.find(\"compartment\") will find the FIRST one it finds, event though there is a second one.  Try searching for \"compartment \" - does this find the second one?\n",
        "\n",
        "**HAVE A GO**"
      ]
    },
    {
      "cell_type": "code",
      "metadata": {
        "id": "4Uq2Nue-gFSk"
      },
      "source": [
        ""
      ],
      "execution_count": null,
      "outputs": []
    },
    {
      "cell_type": "markdown",
      "metadata": {
        "id": "R-VWQQggh-Lj"
      },
      "source": [
        "### Troubleshooting\n",
        "\n",
        "If you are having trouble check the following:  \n",
        "\n",
        "*   have you copied the textToSearch variable and its value into the coding area?\n",
        "*   have you used input(\"What do you want to search for? \") to get the word to search for? (You may need to recap this in the learning section)\n",
        "*   have you used textToSearch.find(word) to search?  \n",
        "*   have you printed the position?\n",
        "*   have you printed textToSearch[position: len(textToSearch)] where position is the start of the word you are searching for?\n"
      ]
    },
    {
      "cell_type": "markdown",
      "metadata": {
        "id": "S2XSVISJ4VuZ"
      },
      "source": [
        "# WHAT HAVE WE LEARNT FROM THIS PROJECT?"
      ]
    },
    {
      "cell_type": "markdown",
      "metadata": {
        "id": "O1bARkjHj3zX"
      },
      "source": [
        "How to read **string** data from the keyboard using input()  \n",
        "How to print string data  \n",
        "How to print one character of a string using its position\n",
        "How to print a set of characters from a string using the position of the first character and the position of the first character after that set\n",
        "How to find a set of characters in a string, getting the position of the first of that set of characters."
      ]
    },
    {
      "cell_type": "markdown",
      "metadata": {
        "id": "ik0Pfm1n4ezZ"
      },
      "source": [
        "# TEXT SEARCH TOOLS"
      ]
    },
    {
      "cell_type": "markdown",
      "metadata": {
        "id": "z7KNe8w34jxT"
      },
      "source": [
        "You are just one step away from how the find text search works in Word, in a spreadsheet, on a web page or in lots of other applications.\n",
        "\n",
        "While you are looking at this page, try holding down the Ctrl key (or the Cmd key on a Mac) and pressing F. This will open a small box in the top right of this screen where you can type in a word to find. Enter the word \"Wilbur\" and press ENTER.\n",
        "\n",
        "You should find that all Wilburs are highlighted but that the first one is highlighted differently from the others. This is the one you would have found. The browser has extra code to find more of them and to highlight them. You can learn that later."
      ]
    }
  ]
}